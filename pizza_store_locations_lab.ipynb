{
 "cells": [
  {
   "cell_type": "markdown",
   "metadata": {},
   "source": [
    "# Clustering lab\n",
    "## Using clustering to find best store locations\n",
    "\n",
    "Imagine the following problem:<br>\n",
    "You own the pizza chain, and you collected data about pizza deliveries in a certain neighborhood. The data contains a coordinate of each delivery as a pair *(Latitude,Longitude)*. You do not have any stores in this neighborhood, and driving there takes a lot of resources from your business. So you decide to open $K$ new stores in this area. The goal is, based on the frequent delivery data, determine the best locations for the new stores.\n",
    "\n",
    "You need to perform the $K$-means clustering of delivery locations, and otput the best location for $K$ new stores. How would you choose the location of the store within each cluster that minimizes the overall distancebetween the store and the delivery address?\n",
    "\n",
    "The data is 2-dimensional and it is easy to plot it to see if the locations of new stores make sense."
   ]
  },
  {
   "cell_type": "code",
   "execution_count": 1,
   "metadata": {},
   "outputs": [],
   "source": [
    "%matplotlib inline\n",
    "import matplotlib.pyplot as plt\n",
    "import seaborn as sns; sns.set()  # for plot styling\n",
    "import pandas as pd\n",
    "import numpy as np"
   ]
  },
  {
   "cell_type": "markdown",
   "metadata": {},
   "source": [
    "The data is a real data collected by [this person](https://github.com/angelddaz) while working as a pizza delivery driver. The file [pizza_delivery_locations.csv](https://docs.google.com/spreadsheets/d/1guQN-_EykRqqlY2R3uYfopNX9pc8p-E8oHJr-RTXtQU/edit?usp=sharing) is a subset of the original data and contains only *(Latitude,Longitude)* of each delivery address. Download the file and update the path below."
   ]
  },
  {
   "cell_type": "code",
   "execution_count": 2,
   "metadata": {},
   "outputs": [],
   "source": [
    "data_file = \"../data_ml_2020/pizza_delivery_locations.csv\""
   ]
  },
  {
   "cell_type": "code",
   "execution_count": 3,
   "metadata": {},
   "outputs": [
    {
     "name": "stdout",
     "output_type": "stream",
     "text": [
      "Index(['Latitude', 'Longitude'], dtype='object')\n"
     ]
    }
   ],
   "source": [
    "data = pd.read_csv(data_file)\n",
    "columns=data.columns\n",
    "print(data.columns)\n",
    "len(data)\n",
    "\n",
    "# convert dataframe to a 2D numpy array - it is easier to work with it\n",
    "data = data.to_numpy()"
   ]
  },
  {
   "cell_type": "markdown",
   "metadata": {},
   "source": [
    "## Task 1.\n",
    "\n",
    "Use $K$-means clustering algorithm to find the best locations for new pizza stores for $K$=2, $K$=3 and $K$=4. The answers should be represented as lists of *(Latitide,Longitude)* tuples for each value of $K$.\n",
    "\n",
    "You can use the custom code from the k-means demo, or you can use the `sklearn.KMeans` module to perform clustering."
   ]
  },
  {
   "cell_type": "code",
   "execution_count": 4,
   "metadata": {},
   "outputs": [],
   "source": [
    "# clustering code for 2,3 and 4 clusters\n",
    "from sklearn.cluster import KMeans\n",
    "K=4\n",
    "k_means=KMeans(K)\n",
    "prediction=k_means.fit_predict(data)"
   ]
  },
  {
   "cell_type": "code",
   "execution_count": 5,
   "metadata": {},
   "outputs": [
    {
     "name": "stdout",
     "output_type": "stream",
     "text": [
      "[[  43.66395605 -116.26687948]\n",
      " [  43.63263042 -116.20979217]\n",
      " [  43.64181413 -116.24036593]\n",
      " [  43.723879   -116.255046  ]]\n"
     ]
    }
   ],
   "source": [
    "# Extracting best store locations for each cluster of addresses\n",
    "centroids = k_means.cluster_centers_\n",
    "print(centroids)"
   ]
  },
  {
   "cell_type": "markdown",
   "metadata": {},
   "source": [
    "## Task 2\n",
    "Visualize clusters by plotting each data point and coloring it with the different color according to the cluster to which it belongs. Also plot the locations of new stores for each value of $K$. Some examples of the final visualizations are given below."
   ]
  },
  {
   "cell_type": "code",
   "execution_count": 6,
   "metadata": {},
   "outputs": [],
   "source": [
    "import matplotlib.pyplot as plt"
   ]
  },
  {
   "cell_type": "markdown",
   "metadata": {},
   "source": [
    "## Examples of cluster visualization in 2D"
   ]
  },
  {
   "cell_type": "code",
   "execution_count": 7,
   "metadata": {},
   "outputs": [
    {
     "data": {
      "image/png": "[encoded data removed]",
      "text/plain": [
       "<Figure size 432x288 with 1 Axes>"
      ]
     },
     "metadata": {},
     "output_type": "display_data"
    }
   ],
   "source": [
    "# Plotting original data\n",
    "X=[]\n",
    "Y=[]\n",
    "origdata=pd.DataFrame(data=data,columns=columns)\n",
    "sns.scatterplot(data=origdata,x=\"Latitude\",y=\"Longitude\")\n",
    "plt.show()"
   ]
  },
  {
   "cell_type": "code",
   "execution_count": 31,
   "metadata": {},
   "outputs": [
    {
     "name": "stdout",
     "output_type": "stream",
     "text": [
      "       Latitude   Longitude  store\n",
      "0     43.666573 -116.263356    0.0\n",
      "1     43.652722 -116.259743    0.0\n",
      "2     43.624462 -116.218350    1.0\n",
      "3     43.666573 -116.263356    0.0\n",
      "4     43.666573 -116.263356    0.0\n",
      "...         ...         ...    ...\n",
      "1296  43.624462 -116.218350    1.0\n",
      "1297  43.672328 -116.286124    0.0\n",
      "1298  43.652722 -116.259743    0.0\n",
      "1299  43.648076 -116.234130    2.0\n",
      "1300  43.659428 -116.231891    2.0\n",
      "\n",
      "[1301 rows x 3 columns]\n"
     ]
    },
    {
     "data": {
      "text/plain": [
       "<matplotlib.axes._subplots.AxesSubplot at 0x25e137f11c0>"
      ]
     },
     "execution_count": 31,
     "metadata": {},
     "output_type": "execute_result"
    },
    {
     "data": {
      "image/png": "[encoded data removed]",
      "text/plain": [
       "<Figure size 432x288 with 1 Axes>"
      ]
     },
     "metadata": {},
     "output_type": "display_data"
    }
   ],
   "source": [
    "# Plotting clusters with centers\n",
    "init=0\n",
    "for i in range(len(data)):\n",
    "    s=[data[i]]\n",
    "    s=np.concatenate((s,[np.array([prediction[i]])]),axis=1)\n",
    "    if(init==0):\n",
    "        init=1\n",
    "        dataandprediction=[s[0]]\n",
    "    else:\n",
    "        dataandprediction=np.concatenate((dataandprediction,[s[0]]),axis=0)\n",
    "columns=['Latitude', 'Longitude','store']\n",
    "newdata=pd.DataFrame(data=dataandprediction,columns=columns)\n",
    "print(newdata)\n",
    "sns.scatterplot(data=newdata,x=\"Latitude\",y=\"Longitude\",hue=\"store\",palette=\"deep\")\n",
    "stores=pd.DataFrame(data=centroids,columns=['Latitude','Longitude'])\n",
    "sns.scatterplot(data=stores,x=\"Latitude\",y=\"Longitude\",marker=\"x\")"
   ]
  },
  {
   "cell_type": "markdown",
   "metadata": {},
   "source": [
    "Copyright &copy; 2020 Marina Barsky. All rights reserved."
   ]
  }
 ],
 "metadata": {
  "kernelspec": {
   "display_name": "Python 3",
   "language": "python",
   "name": "python3"
  },
  "language_info": {
   "codemirror_mode": {
    "name": "ipython",
    "version": 3
   },
   "file_extension": ".py",
   "mimetype": "text/x-python",
   "name": "python",
   "nbconvert_exporter": "python",
   "pygments_lexer": "ipython3",
   "version": "3.8.3"
  }
 },
 "nbformat": 4,
 "nbformat_minor": 4
}
